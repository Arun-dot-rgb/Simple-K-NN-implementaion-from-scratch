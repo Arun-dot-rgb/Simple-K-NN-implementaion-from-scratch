{
  "nbformat": 4,
  "nbformat_minor": 0,
  "metadata": {
    "colab": {
      "name": "K-nearest neighbor implementation.ipynb",
      "provenance": [],
      "collapsed_sections": []
    },
    "kernelspec": {
      "name": "python3",
      "display_name": "Python 3"
    }
  },
  "cells": [
    {
      "cell_type": "code",
      "metadata": {
        "id": "tCi2TbrKA1oE",
        "colab_type": "code",
        "colab": {}
      },
      "source": [
        "#importing required modules\n",
        "\n",
        "from sklearn.datasets import make_blobs\n",
        "\n",
        "import matplotlib.pyplot as plt\n",
        "\n",
        "import numpy as np\n",
        "\n",
        "\n",
        "\n",
        "#generate classification dataset (centers : gives no of classified output labels)\n",
        "#X is input datapoints consist i=of 2 features and y is output label\n",
        "\n",
        "X,y = make_blobs(n_samples=1000,n_features=2,centers=2,random_state=40)\n",
        "\n",
        "\n",
        "#plot scatterplot for datapoints (X)\n",
        "plt.scatter(X[:,0],X[:,1],marker='*',c=y)\n",
        "plt.axis([-5,10,-12,-1])\n",
        "plt.show()"
      ],
      "execution_count": 0,
      "outputs": []
    },
    {
      "cell_type": "code",
      "metadata": {
        "id": "HrQQ-X4F5u32",
        "colab_type": "code",
        "colab": {}
      },
      "source": [
        "#No of +ve and -ve points in dataset:\n",
        "\n",
        "print(\"No of positive points\",np.count_nonzero(y))\n",
        "print(\"No of negative points\",np.count_nonzero(y==0))"
      ],
      "execution_count": 0,
      "outputs": []
    },
    {
      "cell_type": "code",
      "metadata": {
        "id": "dkut7mdq50-g",
        "colab_type": "code",
        "colab": {}
      },
      "source": [
        "#split train and test data\n",
        "\n",
        "\n",
        "from sklearn.model_selection import train_test_split\n",
        "\n",
        "\n",
        "X_train,X_test,y_train,y_test = train_test_split(X,y,train_size = 0.7,random_state = 40)\n",
        "\n"
      ],
      "execution_count": 0,
      "outputs": []
    },
    {
      "cell_type": "code",
      "metadata": {
        "id": "sIDmBfshAxYO",
        "colab_type": "code",
        "colab": {}
      },
      "source": [
        "#shape of train and test data\n",
        "\n",
        "print(\"Shape of training dataset:\",X_train.shape)\n",
        "print(\"Shape of test dataset:\",X_test.shape)"
      ],
      "execution_count": 0,
      "outputs": []
    },
    {
      "cell_type": "code",
      "metadata": {
        "id": "ZaUhgZT0FHS_",
        "colab_type": "code",
        "colab": {}
      },
      "source": [
        "from collections import Counter\n",
        "\n",
        "import operator\n",
        "\n",
        "from sklearn.neighbors import KNeighborsClassifier\n",
        "\n",
        "import scipy\n",
        "\n",
        "\n",
        "class KNN:\n",
        "\n",
        "     #creating constructor class\n",
        "     \n",
        "    def __init__(self, k):\n",
        "        self.k = k\n",
        "        \n",
        "\n",
        "    #fit () to train the K-nn model \n",
        "    #since k-nn is lazy learner it only stores training set in memory\n",
        "\n",
        "    def fit(self, X, y):\n",
        "        self.X_train = X\n",
        "        self.y_train = y\n",
        "\n",
        "        print(\"Training is done for K-NN\")\n",
        "        \n",
        "\n",
        "    #calculating euclidean distance(shortest dist) between test set and train set\n",
        "\n",
        "    def distance(self, X1, X2):\n",
        "        distance = scipy.spatial.distance.euclidean(X1, X2)\n",
        "    \n",
        "\n",
        "    #predict method to determine the class labels for test set\n",
        "\n",
        "    def predict(self, X_test):\n",
        "        final_output = []\n",
        "        for i in range(len(X_test)):\n",
        "            d = []\n",
        "            votes = []\n",
        "            for j in range(len(X_train)):\n",
        "                dist = scipy.spatial.distance.euclidean(X_train[j] , X_test[i])\n",
        "                d.append([dist, j])\n",
        "            d.sort()\n",
        "            d = d[0:self.k]\n",
        "            for d, j in d:\n",
        "                votes.append(y_train[j])\n",
        "            majority_vote = Counter(votes).most_common(1)[0][0]\n",
        "            final_output.append(majority_vote)\n",
        "            \n",
        "        return final_output\n",
        "\n",
        "    #calulating accuracy of the model\n",
        "    \n",
        "    def score(self, X_test, y_test):\n",
        "        predictions = self.predict(X_test)\n",
        "        return (predictions == y_test).sum() / len(y_test)\n",
        "\n",
        "\n",
        "#object creation\n",
        "#Nearest neighbor is 3 here \n",
        "\n",
        "classifier = KNN(3)\n",
        "classifier.fit(X_train, y_train)\n",
        "prediction = classifier.predict(X_test)\n",
        "\n",
        "print(\"Model prediction is:\")\n",
        "print(prediction)\n",
        "\n",
        "model_accuracy = classifier.score(X_test, y_test)\n",
        "\n",
        "print(\"Accuracy of K-nn classifier is:\",model_accuracy)"
      ],
      "execution_count": 0,
      "outputs": []
    },
    {
      "cell_type": "code",
      "metadata": {
        "id": "qnSfdIAWXGfY",
        "colab_type": "code",
        "colab": {}
      },
      "source": [
        ""
      ],
      "execution_count": 0,
      "outputs": []
    }
  ]
}